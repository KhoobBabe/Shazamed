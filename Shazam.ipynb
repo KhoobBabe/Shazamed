{
  "nbformat": 4,
  "nbformat_minor": 0,
  "metadata": {
    "colab": {
      "provenance": []
    },
    "kernelspec": {
      "name": "python3",
      "display_name": "Python 3"
    },
    "language_info": {
      "name": "python"
    }
  },
  "cells": [
    {
      "cell_type": "markdown",
      "source": [
        "# SHAZAM TO SPOTIFY\n",
        "\n",
        "This project aims to import many songs from shazam to your spotify account"
      ],
      "metadata": {
        "id": "GcQ7ITLQBLXI"
      }
    },
    {
      "cell_type": "markdown",
      "source": [
        "## Installing the necessary libraries"
      ],
      "metadata": {
        "id": "N12JXitZCdFy"
      }
    },
    {
      "cell_type": "code",
      "source": [
        "!pip install spotipy"
      ],
      "metadata": {
        "id": "TOe-vDFlzd3p"
      },
      "execution_count": null,
      "outputs": []
    },
    {
      "cell_type": "code",
      "execution_count": null,
      "metadata": {
        "id": "yL4vStkeyTnw"
      },
      "outputs": [],
      "source": [
        "import pandas as pd\n",
        "import spotipy\n",
        "from spotipy.oauth2 import SpotifyOAuth"
      ]
    },
    {
      "cell_type": "markdown",
      "source": [
        "## Uploading the dataset\n",
        "\n",
        "You can download your shazam library in .csv form from\n",
        "[here](https://www.shazam.com/myshazam)"
      ],
      "metadata": {
        "id": "aRN3-d-1CiCj"
      }
    },
    {
      "cell_type": "code",
      "source": [
        "# Read CSV file\n",
        "df_before_cleaning = pd.read_csv('/content/shazamlibrary.csv')"
      ],
      "metadata": {
        "id": "1-sqG7QuztpD"
      },
      "execution_count": null,
      "outputs": []
    },
    {
      "cell_type": "code",
      "source": [
        "# Print count before cleaning\n",
        "print(f\"Entries before cleaning: {len(df_before_cleaning)}\")"
      ],
      "metadata": {
        "id": "cg2WVtXrzyps"
      },
      "execution_count": null,
      "outputs": []
    },
    {
      "cell_type": "code",
      "source": [
        "# Print the columns of the DataFrame before dropping duplicates\n",
        "print(\"Columns before cleaning:\", df_before_cleaning.columns)\n",
        "\n",
        "# Drop duplicate rows based on actual column names\n",
        "df = df_before_cleaning.drop_duplicates(subset=['Title', 'Artist'])\n",
        "\n",
        "# Print the columns of the DataFrame after cleaning\n",
        "print(\"Columns after cleaning:\", df.columns)"
      ],
      "metadata": {
        "id": "ZQiMCO0Sz1-E"
      },
      "execution_count": null,
      "outputs": []
    },
    {
      "cell_type": "code",
      "source": [
        "# Print count after cleaning\n",
        "print(f\"Entries after cleaning: {len(df)}\")"
      ],
      "metadata": {
        "colab": {
          "base_uri": "https://localhost:8080/"
        },
        "id": "xPWV0zP00duI",
        "outputId": "ad56f3a6-483c-4e8f-aceb-d392355e78f6"
      },
      "execution_count": null,
      "outputs": [
        {
          "output_type": "stream",
          "name": "stdout",
          "text": [
            "Entries after cleaning: 1526\n"
          ]
        }
      ]
    },
    {
      "cell_type": "markdown",
      "source": [
        "## Adding the credentials\n",
        "\n",
        "You can get the credentials from [here](https://) by making a new app"
      ],
      "metadata": {
        "id": "Se_effQQGnrU"
      }
    },
    {
      "cell_type": "code",
      "source": [
        "# Spotify API credentials\n",
        "SPOTIPY_CLIENT_ID = 'client-id'\n",
        "SPOTIPY_CLIENT_SECRET = 'client-secret'\n",
        "SPOTIPY_REDIRECT_URI = 'http://localhost:8888/callback'\n",
        "SPOTIPY_SCOPE = 'playlist-modify-public'"
      ],
      "metadata": {
        "id": "sYihNboF0s_b"
      },
      "execution_count": null,
      "outputs": []
    },
    {
      "cell_type": "code",
      "source": [
        "# Authentication\n",
        "sp = spotipy.Spotify(auth_manager=SpotifyOAuth(client_id=SPOTIPY_CLIENT_ID,\n",
        "                                               client_secret=SPOTIPY_CLIENT_SECRET,\n",
        "                                               redirect_uri=SPOTIPY_REDIRECT_URI,\n",
        "                                               scope=SPOTIPY_SCOPE))"
      ],
      "metadata": {
        "id": "Q3H53Kv22bTa"
      },
      "execution_count": null,
      "outputs": []
    },
    {
      "cell_type": "code",
      "source": [
        "# Authentication for Colab\n",
        "sp = spotipy.Spotify(auth_manager=SpotifyOAuth(client_id=SPOTIPY_CLIENT_ID,\n",
        "                                               client_secret=SPOTIPY_CLIENT_SECRET,\n",
        "                                               redirect_uri=SPOTIPY_REDIRECT_URI,\n",
        "                                               open_browser=False,  # Set to False in Colab\n",
        "                                               scope=SPOTIPY_SCOPE))\n",
        "\n",
        "# Get the user ID\n",
        "user_info = sp.current_user()\n",
        "user_id = user_info['id']\n",
        "\n",
        "# Create a new playlist\n",
        "playlist_name = 'Shazamed'\n",
        "playlist = sp.user_playlist_create(user_id, playlist_name, public=True)\n",
        "\n",
        "# Retrieve the playlist ID\n",
        "playlist_id = playlist['id']\n",
        "\n",
        "# Print information about the created playlist\n",
        "print(f\"Playlist '{playlist_name}' created with ID: {playlist_id}\")"
      ],
      "metadata": {
        "id": "YDjqzniZ2k66"
      },
      "execution_count": null,
      "outputs": []
    },
    {
      "cell_type": "code",
      "source": [
        "# Add songs to the playlist\n",
        "for index, row in df.iterrows():\n",
        "    # Search for the track URI\n",
        "    results = sp.search(q=f\"track:{row['Title']} artist:{row['Artist']}\", type='track')\n",
        "    if results['tracks']['items']:\n",
        "        track_uri = results['tracks']['items'][0]['uri']\n",
        "        sp.playlist_add_items(playlist_id, [track_uri])\n",
        "\n",
        "print(f\"Songs added to the playlist '{playlist_name}' successfully!\")"
      ],
      "metadata": {
        "id": "Xtbtz2wN8xCs"
      },
      "execution_count": null,
      "outputs": []
    }
  ]
}